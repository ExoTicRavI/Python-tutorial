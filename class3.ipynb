{
 "cells": [
  {
   "cell_type": "code",
   "execution_count": 3,
   "id": "9bfc1a23-89ac-459e-a783-c4d233233205",
   "metadata": {},
   "outputs": [
    {
     "name": "stdout",
     "output_type": "stream",
     "text": [
      "0\n",
      "1\n",
      "2\n",
      "3\n",
      "4\n",
      "5\n",
      "6\n",
      "7\n",
      "8\n",
      "9\n"
     ]
    }
   ],
   "source": [
    " i = 10\n",
    "count = 0\n",
    "while(count!=i):\n",
    "    print(count)\n",
    "    count = count +1"
   ]
  },
  {
   "cell_type": "code",
   "execution_count": 9,
   "id": "8461d13a-0bb7-4fe1-adeb-1be850692fe3",
   "metadata": {},
   "outputs": [
    {
     "name": "stdin",
     "output_type": "stream",
     "text": [
      "Enter a Number 121\n"
     ]
    },
    {
     "name": "stdout",
     "output_type": "stream",
     "text": [
      "The reversed number of 121 is : 121\n",
      "It is Palindrome\n"
     ]
    }
   ],
   "source": [
    "num = int(input(\"Enter a Number\"))\n",
    "a = num\n",
    "rev = 0\n",
    "while(num!=0):\n",
    "    rem = num % 10\n",
    "    rev = rev*10+rem\n",
    "    num = num//10\n",
    "print (f\"The reversed number of {a} is : {rev}\")\n",
    "if (a == rev):\n",
    "    print(\"It is Palindrome\")\n",
    "else:\n",
    "    print(\"It is Not Palindrome\")"
   ]
  },
  {
   "cell_type": "code",
   "execution_count": 12,
   "id": "720ae7f8-898b-4108-9c5d-466a779d35b7",
   "metadata": {},
   "outputs": [
    {
     "name": "stdout",
     "output_type": "stream",
     "text": [
      "The number is : 425\n",
      "The Reversed Number is : 524\n"
     ]
    }
   ],
   "source": [
    "import random\n",
    "num = random.randint(121,600)\n",
    "print(f\"The number is : {num}\")\n",
    "rev = 0\n",
    "while(num!=0):\n",
    "    rem = num % 10\n",
    "    rev = rev*10+rem\n",
    "    num = num//10\n",
    "print(\"The Reversed Number is :\", rev)"
   ]
  },
  {
   "cell_type": "code",
   "execution_count": 17,
   "id": "8b0b9f92-a8e9-4051-9546-8abe3b941463",
   "metadata": {},
   "outputs": [
    {
     "name": "stdin",
     "output_type": "stream",
     "text": [
      "Enter Your Guess 25\n"
     ]
    },
    {
     "name": "stdout",
     "output_type": "stream",
     "text": [
      "Your Guess Is Too High\n"
     ]
    },
    {
     "name": "stdin",
     "output_type": "stream",
     "text": [
      "Enter Your Guess 22\n"
     ]
    },
    {
     "name": "stdout",
     "output_type": "stream",
     "text": [
      "Your Guess Is Too High\n"
     ]
    },
    {
     "name": "stdin",
     "output_type": "stream",
     "text": [
      "Enter Your Guess 20\n"
     ]
    },
    {
     "name": "stdout",
     "output_type": "stream",
     "text": [
      "Your Guess Is Too High\n"
     ]
    },
    {
     "name": "stdin",
     "output_type": "stream",
     "text": [
      "Enter Your Guess 18\n"
     ]
    },
    {
     "name": "stdout",
     "output_type": "stream",
     "text": [
      "Your Guess Is Too High\n"
     ]
    },
    {
     "name": "stdin",
     "output_type": "stream",
     "text": [
      "Enter Your Guess 16\n"
     ]
    },
    {
     "name": "stdout",
     "output_type": "stream",
     "text": [
      "Your Guess Is Too High\n"
     ]
    },
    {
     "name": "stdin",
     "output_type": "stream",
     "text": [
      "Enter Your Guess 14\n"
     ]
    },
    {
     "name": "stdout",
     "output_type": "stream",
     "text": [
      "Your Guess Is Too High\n"
     ]
    },
    {
     "name": "stdin",
     "output_type": "stream",
     "text": [
      "Enter Your Guess 12\n"
     ]
    },
    {
     "name": "stdout",
     "output_type": "stream",
     "text": [
      "Your Guess Is Too High\n"
     ]
    },
    {
     "name": "stdin",
     "output_type": "stream",
     "text": [
      "Enter Your Guess 10\n"
     ]
    },
    {
     "name": "stdout",
     "output_type": "stream",
     "text": [
      "Your Guess Is Too High\n"
     ]
    },
    {
     "name": "stdin",
     "output_type": "stream",
     "text": [
      "Enter Your Guess 8\n"
     ]
    },
    {
     "name": "stdout",
     "output_type": "stream",
     "text": [
      "Your Guess is Too low\n"
     ]
    },
    {
     "name": "stdin",
     "output_type": "stream",
     "text": [
      "Enter Your Guess 6\n"
     ]
    },
    {
     "name": "stdout",
     "output_type": "stream",
     "text": [
      "Your Guess is Too low\n"
     ]
    },
    {
     "name": "stdin",
     "output_type": "stream",
     "text": [
      "Enter Your Guess 9\n"
     ]
    },
    {
     "name": "stdout",
     "output_type": "stream",
     "text": [
      "Congrats you won the game\n",
      "Congrats you won the game in 11 Tries\n"
     ]
    }
   ],
   "source": [
    "import random\n",
    "num = random.randint(1,50)\n",
    "count = 0\n",
    "guess = 0\n",
    "while num!=guess:\n",
    "    guess = int(input(\"Enter Your Guess\"))\n",
    "    if num == guess:\n",
    "        print (\"Congrats you won the game\")\n",
    "    elif guess > num:\n",
    "        print(\"Your Guess Is Too High\")\n",
    "    elif guess<num:\n",
    "        print(\"Your Guess is Too low\")\n",
    "    count = count+1\n",
    "print(f\"Congrats you won the game in {count} Tries\")"
   ]
  },
  {
   "cell_type": "code",
   "execution_count": 19,
   "id": "e65c159f-14d6-4f7c-96b2-53b8b8f4c772",
   "metadata": {},
   "outputs": [
    {
     "name": "stdin",
     "output_type": "stream",
     "text": [
      "Enter Your Name ExoTicRavI\n"
     ]
    },
    {
     "name": "stdout",
     "output_type": "stream",
     "text": [
      "ExoTicRavI\n",
      "The length of ExoTicRavI is 10\n",
      "name:ExoTicRavIExoTicRavIExoTicRavI\n"
     ]
    }
   ],
   "source": [
    "name = input(\"Enter Your Name\")\n",
    "print (name)\n",
    "print(f\"The length of {name} is {len(name)}\")\n",
    "print(f\"name:{name*3}\")"
   ]
  },
  {
   "cell_type": "code",
   "execution_count": 23,
   "id": "1215c032-6d49-47c1-9e50-164fb9e755da",
   "metadata": {},
   "outputs": [
    {
     "name": "stdout",
     "output_type": "stream",
     "text": [
      "[(0, 'G'), (1, 'a'), (2, 'm'), (3, 'i'), (4, 'n'), (5, 'g')]\n"
     ]
    },
    {
     "data": {
      "text/plain": [
       "'gaming'"
      ]
     },
     "execution_count": 23,
     "metadata": {},
     "output_type": "execute_result"
    }
   ],
   "source": [
    "a = \"Gaming\"\n",
    "print(list(enumerate(a)))\n",
    "a.lower()"
   ]
  },
  {
   "cell_type": "code",
   "execution_count": 24,
   "id": "c844191f-1bb5-4d2d-98a3-d887d2641669",
   "metadata": {},
   "outputs": [
    {
     "name": "stdout",
     "output_type": "stream",
     "text": [
      "[(0, 'G'), (1, 'a'), (2, 'm'), (3, 'i'), (4, 'n'), (5, 'g')]\n"
     ]
    },
    {
     "data": {
      "text/plain": [
       "'GAMING'"
      ]
     },
     "execution_count": 24,
     "metadata": {},
     "output_type": "execute_result"
    }
   ],
   "source": [
    "a = \"Gaming\"\n",
    "print(list(enumerate(a)))\n",
    "a.upper()"
   ]
  },
  {
   "cell_type": "code",
   "execution_count": 25,
   "id": "3d8a1a1c-4c6a-4cee-a0fd-eb195222f991",
   "metadata": {},
   "outputs": [
    {
     "data": {
      "text/plain": [
       "['this', 'is', 'programming']"
      ]
     },
     "execution_count": 25,
     "metadata": {},
     "output_type": "execute_result"
    }
   ],
   "source": [
    "a = \"this is programming\"\n",
    "a.split()"
   ]
  },
  {
   "cell_type": "code",
   "execution_count": 27,
   "id": "ad36ad34-3fed-4623-8a0b-b1f08e1abb85",
   "metadata": {},
   "outputs": [
    {
     "data": {
      "text/plain": [
       "'it is programming'"
      ]
     },
     "execution_count": 27,
     "metadata": {},
     "output_type": "execute_result"
    }
   ],
   "source": [
    "a = \"this is programming\"\n",
    "a.replace('this' , 'it')"
   ]
  },
  {
   "cell_type": "code",
   "execution_count": 32,
   "id": "3d403b88-4e42-4dea-807e-9e578f5654fc",
   "metadata": {},
   "outputs": [
    {
     "name": "stdout",
     "output_type": "stream",
     "text": [
      "lal,sashi,kumar\n"
     ]
    }
   ],
   "source": [
    "Positional_order=\"{2},{0},{1}\".format('sashi','kumar','lal')\n",
    "print(Positional_order)"
   ]
  },
  {
   "cell_type": "code",
   "execution_count": 34,
   "id": "e4580006-48f3-476d-8b82-0c1560b1b789",
   "metadata": {},
   "outputs": [
    {
     "name": "stdout",
     "output_type": "stream",
     "text": [
      "1 2 3 4 5 \n",
      "sum: 15\n"
     ]
    }
   ],
   "source": [
    "sum = 0\n",
    "for i in range(1,10):\n",
    "    if i == 6:\n",
    "        break\n",
    "    print(i, end=\" \")\n",
    "    sum = sum + i\n",
    "print(\"\\nsum:\", sum)"
   ]
  },
  {
   "cell_type": "code",
   "execution_count": 41,
   "id": "d372b137-265a-4918-9b74-d1b29b4620c6",
   "metadata": {},
   "outputs": [
    {
     "name": "stdin",
     "output_type": "stream",
     "text": [
      "Enter a Number 3\n"
     ]
    },
    {
     "name": "stdout",
     "output_type": "stream",
     "text": [
      "prime number\n"
     ]
    }
   ],
   "source": [
    "num = int(input(\"Enter a Number\"))\n",
    "count = 0\n",
    "for i in range (1,num+1):\n",
    "    if num%i == 0:\n",
    "        count = count +1\n",
    "if count == 2:\n",
    "    print(\"prime number\")\n",
    "else:\n",
    "    print(\"not prime number\")"
   ]
  },
  {
   "cell_type": "code",
   "execution_count": null,
   "id": "b003ff3e-0a5e-4c0c-9de1-eb3001b76376",
   "metadata": {},
   "outputs": [],
   "source": []
  }
 ],
 "metadata": {
  "kernelspec": {
   "display_name": "Python 3 (ipykernel)",
   "language": "python",
   "name": "python3"
  },
  "language_info": {
   "codemirror_mode": {
    "name": "ipython",
    "version": 3
   },
   "file_extension": ".py",
   "mimetype": "text/x-python",
   "name": "python",
   "nbconvert_exporter": "python",
   "pygments_lexer": "ipython3",
   "version": "3.12.5"
  }
 },
 "nbformat": 4,
 "nbformat_minor": 5
}
